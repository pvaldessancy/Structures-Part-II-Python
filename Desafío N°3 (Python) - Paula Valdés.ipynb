{
 "cells": [
  {
   "cell_type": "markdown",
   "id": "b982e81b",
   "metadata": {},
   "source": [
    "# Desafío N°3 - Tipos y estructuras de datos (Parte I)\n"
   ]
  },
  {
   "cell_type": "markdown",
   "id": "5e8f8099",
   "metadata": {},
   "source": [
    "### 1. Usando la siguiente lista:\n",
    "\n",
    "lista = [\"manzana\", \"pera\", \"naranja\", \"plátano\", \"kiwi\", \"uva\", \"piña\",\"mango\", \"sandía\", \"melón\"]\n",
    "\n",
    "a. Imprime el quinto elemento de la lista.\n",
    "b. Imprime del cuarto al sexto inclusive.\n",
    "c. Elimina el elemento en la posición 3\n",
    "d. Agrega dos nuevos elementos a la lista\n",
    "e. Ordena la lista alfabéticamente.\n",
    "f. Genera un diccionario usando lista1 como llaves y lista como valores.\n",
    "\n",
    "lista1 = [\"uno\", \"dos\", \"tres\", \"cuatro\", \"cinco\", \"seis\", \"siete\",\"ocho\", \"nueve\", \"diez\"]\n"
   ]
  },
  {
   "cell_type": "code",
   "execution_count": 1,
   "id": "b1eaf82e",
   "metadata": {},
   "outputs": [
    {
     "data": {
      "text/plain": [
       "['manzana',\n",
       " 'pera',\n",
       " 'naranja',\n",
       " 'plátano',\n",
       " 'kiwi',\n",
       " 'uva',\n",
       " 'piña',\n",
       " 'mango',\n",
       " 'sandía',\n",
       " 'melón']"
      ]
     },
     "execution_count": 1,
     "metadata": {},
     "output_type": "execute_result"
    }
   ],
   "source": [
    "# Creamos la lista\n",
    "lista = [\"manzana\", \"pera\", \"naranja\", \"plátano\", \"kiwi\", \"uva\", \"piña\",\"mango\", \"sandía\", \"melón\"]\n",
    "lista"
   ]
  },
  {
   "cell_type": "code",
   "execution_count": 2,
   "id": "fa9f41b9",
   "metadata": {},
   "outputs": [
    {
     "name": "stdout",
     "output_type": "stream",
     "text": [
      "uva\n"
     ]
    }
   ],
   "source": [
    "# Ejercicio a. Imprime el quinto elemento de la lista.\n",
    "print(lista[5])"
   ]
  },
  {
   "cell_type": "code",
   "execution_count": 3,
   "id": "c5e299a6",
   "metadata": {},
   "outputs": [
    {
     "name": "stdout",
     "output_type": "stream",
     "text": [
      "['kiwi', 'uva', 'piña']\n"
     ]
    }
   ],
   "source": [
    "# Ejercicio b. Imprime del cuarto al sexto inclusive. Indicamos rango hasta el \"7\" para que incluya el sexto elemento\n",
    "print(lista[4:7])"
   ]
  },
  {
   "cell_type": "code",
   "execution_count": 4,
   "id": "c856126f",
   "metadata": {},
   "outputs": [
    {
     "data": {
      "text/plain": [
       "['manzana',\n",
       " 'pera',\n",
       " 'naranja',\n",
       " 'kiwi',\n",
       " 'uva',\n",
       " 'piña',\n",
       " 'mango',\n",
       " 'sandía',\n",
       " 'melón']"
      ]
     },
     "execution_count": 4,
     "metadata": {},
     "output_type": "execute_result"
    }
   ],
   "source": [
    "# Ejercicio c. Elimina el elemento en la posición 3\n",
    "del lista[3]\n",
    "lista"
   ]
  },
  {
   "cell_type": "code",
   "execution_count": 5,
   "id": "b85683f3",
   "metadata": {},
   "outputs": [
    {
     "name": "stdout",
     "output_type": "stream",
     "text": [
      "Ingrese una nueva fruta: sandia\n",
      "La sandia ya está contenida en la lista. Intente con otra fruta.\n",
      "Ingrese una nueva fruta: cherry\n",
      "Ingrese una nueva fruta: ciruela\n",
      "['manzana', 'pera', 'naranja', 'kiwi', 'uva', 'piña', 'mango', 'sandía', 'melón', 'cherry', 'ciruela']\n"
     ]
    }
   ],
   "source": [
    "# Ejercicio d. Agrega dos nuevos elementos a la lista \n",
    "# Para hacerlo más didáctico, pediremos al usuario ingresar frutas y validaremos que estas no existan en la lista previamente\n",
    "\n",
    "# Primero definiremos lo siguiente para evitar duplicidades en el ingreso de las frutas:\n",
    "\n",
    "from unidecode import unidecode # Importamos unicode para asegurar que el programa pueda manejar texto con distintos caracteres ejemplo: acentos.\n",
    "def normalize_input(input_str):# normalize_input al utilizar unicode removerá acentos y convertirá a minuscula los caracteres.\n",
    "    return unidecode(input_str).lower().strip()\n",
    "\n",
    "nuevas_frutas = set()  # Utilizaremos el operador \"set\" para rastrear que las nuevas frutas sean únicas\n",
    "\n",
    "while len(nuevas_frutas) < 2: # Asignamos el largo 2 para asegurar que el usuario ingrese unicamente solo 2 frutas antes que el loop termine\n",
    "    fruta = normalize_input(input(\"Ingrese una nueva fruta: \"))\n",
    "    if fruta not in (normalize_input(f) for f in lista) and fruta not in nuevas_frutas:\n",
    "        nuevas_frutas.add(fruta)\n",
    "    elif fruta in nuevas_frutas:\n",
    "        print(f\"La {fruta} ya fue ingresada. Intente con otra fruta.\")\n",
    "    else:\n",
    "        print(f\"La {fruta} ya está contenida en la lista. Intente con otra fruta.\")\n",
    "\n",
    "# Convierte el conjunto en una lista\n",
    "nuevas_frutas = list(nuevas_frutas)\n",
    "lista.extend(nuevas_frutas)\n",
    "\n",
    "# Imprimimos el resultado\n",
    "print(lista)"
   ]
  },
  {
   "cell_type": "code",
   "execution_count": 6,
   "id": "d06b7eda",
   "metadata": {},
   "outputs": [
    {
     "data": {
      "text/plain": [
       "['cherry',\n",
       " 'ciruela',\n",
       " 'kiwi',\n",
       " 'mango',\n",
       " 'manzana',\n",
       " 'melón',\n",
       " 'naranja',\n",
       " 'pera',\n",
       " 'piña',\n",
       " 'sandía',\n",
       " 'uva']"
      ]
     },
     "execution_count": 6,
     "metadata": {},
     "output_type": "execute_result"
    }
   ],
   "source": [
    "# Ejercicio e. Ordena la lista alfabéticamente.\n",
    "lista.sort()\n",
    "lista"
   ]
  },
  {
   "cell_type": "code",
   "execution_count": 7,
   "id": "b2126520",
   "metadata": {},
   "outputs": [],
   "source": [
    "# Ejercicio f. Genera un diccionario usando lista1 como llaves y lista como valores.\n",
    "\n",
    "# Creamos la lista1\n",
    "lista1 = [\"uno\", \"dos\", \"tres\", \"cuatro\", \"cinco\", \"seis\", \"siete\",\"ocho\", \"nueve\", \"diez\"]"
   ]
  },
  {
   "cell_type": "code",
   "execution_count": 8,
   "id": "03f53faa",
   "metadata": {},
   "outputs": [
    {
     "name": "stdout",
     "output_type": "stream",
     "text": [
      "[('uno', 'cherry'), ('dos', 'ciruela'), ('tres', 'kiwi'), ('cuatro', 'mango'), ('cinco', 'manzana'), ('seis', 'melón'), ('siete', 'naranja'), ('ocho', 'pera'), ('nueve', 'piña'), ('diez', 'sandía'), ('id_0', 'uva')]\n"
     ]
    }
   ],
   "source": [
    "diccionario_frutas = [] # Creamos un diccionario vacío el cual será utilizado para parear lista y lista1\n",
    "unique_id_counter = 0  # Debido a que puede ocurrir que el largo de lista < largo de lista1, generamos un código que permita generar ID incremental para los siguientes elementos que no tengan un par en \"lista\". Comenzando con un id desde cero.\n",
    "\n",
    "max_len = max(len(lista1), len(lista)) # Calculamos el largo máximo entre lista y lista1, lo cual servirá para la iteración siguiente:\n",
    "\n",
    "for i in range(max_len):\n",
    "    try:\n",
    "        tupla = (lista1[i], lista[i])\n",
    "    except IndexError: # Utilizamos IndexError para manejar posibles errores de indexación esto porque ambas listas pueden no tener el mismo largo\n",
    "        if len(lista1) > len(lista):\n",
    "            tupla = (lista1[i], f\"Sin fruta asociada\") # Si lista > lista1 indicaremos que no hay fruta asociada con la cual parear el elemento de \"lista\"\n",
    "        elif len(lista1) < len(lista): # Si el largo de \"lista\" < al largo de \"lista1\" generamos ID incrementales\n",
    "            tupla = (f\"id_{unique_id_counter}\", lista[i])\n",
    "        unique_id_counter += 1  # Incrementamos el ID a medida que se agregan elementos en lista1\n",
    "    diccionario_frutas.append(tupla)\n",
    "\n",
    "# Resultado\n",
    "print(diccionario_frutas)\n"
   ]
  },
  {
   "cell_type": "code",
   "execution_count": 14,
   "id": "6aad2f85",
   "metadata": {},
   "outputs": [
    {
     "data": {
      "text/plain": [
       "('cuatro', 'mango')"
      ]
     },
     "execution_count": 14,
     "metadata": {},
     "output_type": "execute_result"
    }
   ],
   "source": [
    "# Podemos consultar algún elemento del diccionario, por ejemplo, el elemento \"3\"\n",
    "value = (diccionario_frutas[3])\n",
    "value"
   ]
  },
  {
   "cell_type": "markdown",
   "id": "fc971c65",
   "metadata": {},
   "source": [
    "### 2. Fabricación de cerveza artesanal\n",
    "\n",
    "El LIC y el LSC son calculados utilizando la media y la desviación estándar de los datos del proceso. La idea es que la mayoría de los datos del proceso se encuentren dentro de los límites de control (entre el LIC y el LSC), y si un dato cae fuera de estos límites, se puede considerar que el proceso está fuera de control y se requiere una acción correctiva para investigar y\n",
    "corregir la causa de la variación. El valor del LIC se calcula como la media menos tres veces la desviación estándar, y el valor del LSC se calcula como la media más tres veces la desviación estándar. Estos límites representan el rango en el que la mayoría de los datos del proceso deberían estar.\n",
    "\n",
    "Para poder asegurar de que la cantidad de alcohol en cada lote de cerveza sea consistente, debes medir el porcentaje de alcohol de cada lote y registrar los datos en una hoja de cálculo. Esta información ya ha sido recolectada a partir de 1.000 lotes de cerveza y se encuentra en el archivo alcohol_cerveza.csv.\n",
    "\n",
    "El objetivo del ejercicio es calcular la media, la desviación estándar, el LIC y el LSC del porcentaje de alcohol y guardarlos en variables.\n",
    "\n",
    "Para asegurarte de que los lotes de cerveza se estén elaborando de forma consistente y que el nivel de alcohol sea el adecuado, una vez calculadas las medidas anteriores, indicar cuáles valores quedarían fuera de los límites de control y cuántos son.\n",
    "\n",
    "Como guía puedes seguir estos pasos:\n",
    "\n",
    "● Importa la librería NumPy.\n",
    "● Carga los datos del archivo csv en una variable llamada array, usando np.loadtxt(“alcohol_cerveza.csv”) y modifica los parámetros necesarios para leer bien el archivo.\n",
    "● Calcula la media de los datos utilizando la función mean de NumPy y almacena el resultado en una variable llamada media.\n",
    "● Calcula la desviación estándar de los datos utilizando la función std de NumPy y almacena el resultado en una variable llamada desviacion.\n",
    "● Calcula el límite inferior de control (LIC) utilizando la fórmula: media - (3 * desviacion) y almacena el resultado en una variable llamada lic.\n",
    "● Calcula el límite superior de control (LSC) utilizando la fórmula: media + (3 * desviacion) y almacena el resultado en una variable llamada lsc.\n",
    "● Imprime los resultados de la media, la desviación estándar, el LIC y el LSC.\n",
    "● Filtra el array utilizando np.logical_or(condicion1, condicion2) para obtener los valores fuera de los límites de control.\n"
   ]
  },
  {
   "cell_type": "code",
   "execution_count": 15,
   "id": "106f4b65",
   "metadata": {},
   "outputs": [],
   "source": [
    "import numpy as np"
   ]
  },
  {
   "cell_type": "code",
   "execution_count": 16,
   "id": "fc2cde43",
   "metadata": {},
   "outputs": [
    {
     "name": "stdout",
     "output_type": "stream",
     "text": [
      "Datos cargados:\n",
      "[5.06 4.29 4.84 4.93 5.09 4.95 4.89 5.01 4.17 4.46 5.07 5.19 4.82 5.07\n",
      " 4.54 4.99 5.06 4.92 4.61 5.14 5.31 4.74 5.34 4.78 4.09 5.27 5.04 5.04\n",
      " 5.21 5.04 4.73 5.49 4.98 4.96 4.92 5.16 4.91 5.04 4.93 5.03 5.01 5.01\n",
      " 4.82 4.82 4.94 5.09 4.69 5.14 5.18 5.17 4.98 5.79 4.55 4.57 5.47 5.07\n",
      " 5.04 4.87 4.98 4.86 5.02 5.11 5.33 5.19 4.99 4.84 5.16 5.22 5.03 4.85\n",
      " 5.   4.86 5.05 5.04 5.17 4.48 5.01 5.31 4.86 5.27 5.12 5.31 4.62 4.65\n",
      " 4.95 4.86 4.37 5.11 4.73 5.38 5.25 4.86 5.14 5.48 5.07 4.62 5.28 5.13\n",
      " 5.23 4.93 5.44 4.44 5.08 5.   4.45 4.62 4.88 5.02 5.38 4.88 4.09 5.22\n",
      " 5.52 4.71 5.04 5.37 4.73 5.14 4.28 4.69 4.96 5.19 4.71 5.68 4.39 5.16\n",
      " 4.53 5.26 4.82 5.05 4.07 4.61 5.04 4.04 5.12 4.77 5.39 5.57 4.34 5.04\n",
      " 4.86 4.88 5.44 4.92 5.18 5.13 5.42 4.66 4.78 5.03 4.88 5.22 5.36 4.54\n",
      " 4.09 4.67 4.97 4.95 5.38 5.21 5.08 4.91 4.79 4.96 4.93 5.05 4.89 5.07\n",
      " 4.84 5.19 5.21 4.83 5.27 5.08 5.11 4.93 5.31 4.05 5.18 4.93 4.92 5.02\n",
      " 4.66 5.21 5.19 5.01 4.87 5.09 4.87 4.86 4.54 5.   4.81 5.16 5.26 4.08\n",
      " 4.62 5.26 5.24 5.04 4.62 4.91 5.04 4.88 4.83 4.36 5.02 5.08 4.45 5.03\n",
      " 4.25 4.77 5.32 5.02 4.86 4.11 4.71 4.82 5.16 4.53 4.93 4.08 5.21 5.07\n",
      " 5.25 4.91 5.05 4.91 4.76 4.84 5.32 5.   5.04 4.58 5.03 4.92 5.06 4.91\n",
      " 5.09 5.17 5.13 4.42 5.18 4.04 4.86 5.36 4.55 4.88 4.34 4.92 5.19 4.33\n",
      " 4.96 4.36 5.62 4.59 5.   5.19 5.55 4.99 5.62 5.29 5.09 4.91 4.08 5.05\n",
      " 5.39 4.64 5.11 4.53 4.69 4.71 4.96 4.81 5.12 4.83 5.45 5.43 4.66 4.43\n",
      " 5.38 4.75 5.15 5.05 5.02 5.57 4.84 5.01 5.39 4.76 5.11 5.28 5.16 5.01\n",
      " 4.45 5.17 4.96 4.63 4.86 5.47 4.88 4.65 5.15 5.07 4.61 5.37 4.99 5.16\n",
      " 5.11 4.73 5.29 4.81 5.12 4.98 5.61 4.25 4.85 4.62 4.83 4.09 4.47 5.15\n",
      " 5.15 4.86 5.05 5.17 4.93 5.17 4.68 5.19 5.61 5.05 4.98 5.03 5.15 5.34\n",
      " 4.74 4.05 4.65 5.24 4.54 4.96 5.04 5.25 5.37 5.32 4.91 3.87 4.07 4.68\n",
      " 4.35 5.05 5.26 4.43 4.33 4.82 5.45 5.07 4.76 4.82 4.76 5.45 4.96 4.97\n",
      " 4.93 5.55 5.06 4.83 5.16 4.98 4.98 5.13 4.83 5.16 4.85 4.79 5.38 5.15\n",
      " 5.28 5.22 5.29 5.15 4.65 4.95 5.33 5.08 4.82 5.03 5.17 5.08 5.33 4.68\n",
      " 4.74 5.14 4.93 5.45 4.98 4.81 5.07 4.57 5.05 5.06 4.92 4.77 4.85 4.43\n",
      " 5.43 4.76 4.58 5.09 5.02 4.84 4.96 4.86 5.43 5.32 5.32 5.35 5.41 4.89\n",
      " 4.94 4.97 5.21 5.21 4.55 4.91 4.86 4.76 5.21 5.29 5.16 5.23 4.61 5.29\n",
      " 5.34 4.82 4.98 4.84 4.55 5.21 4.91 4.71 4.89 5.13 4.63 4.51 5.01 4.77\n",
      " 5.69 4.89 4.06 4.66 5.21 5.61 5.67 5.34 4.63 4.96 4.78 4.76 5.63 4.47\n",
      " 4.78 4.94 5.03 5.16 4.97 5.01 5.25 5.06 5.36 5.13 5.25 5.08 4.79 4.91\n",
      " 5.11 4.84 5.09 5.26 4.04 5.26 5.07 5.16 4.77 4.99 4.84 5.18 5.15 5.02\n",
      " 4.62 4.81 4.82 5.31 4.85 5.05 5.55 5.56 4.93 5.14 4.73 5.21 5.38 4.79\n",
      " 5.38 4.79 5.59 5.16 5.32 5.19 5.05 4.82 5.17 5.49 5.02 5.05 5.04 5.13\n",
      " 4.64 5.23 5.09 4.76 4.37 4.37 4.84 4.39 4.63 4.83 5.49 4.34 5.12 4.76\n",
      " 4.57 5.21 4.65 4.81 4.91 4.92 5.25 5.06 4.08 4.39 5.36 5.21 5.47 4.78\n",
      " 5.03 4.33 5.02 4.92 4.81 4.76 4.96 5.19 5.26 5.37 5.23 5.16 5.52 4.79\n",
      " 4.44 5.05 4.87 5.24 4.99 4.07 4.07 5.36 5.11 5.48 4.99 5.17 4.85 5.31\n",
      " 5.61 5.42 4.63 5.15 4.98 5.12 5.25 4.63 5.23 4.95 4.83 5.27 5.19 4.95\n",
      " 5.27 5.02 5.14 5.61 4.96 4.88 4.74 5.64 4.82 4.59 4.76 5.14 4.58 5.18\n",
      " 5.18 5.23 5.15 5.03 4.09 5.19 5.36 5.24 4.44 4.63 5.33 4.95 4.06 5.12\n",
      " 5.06 5.38 5.05 4.45 4.59 5.01 5.07 5.11 5.28 5.31 5.07 4.94 4.55 5.07\n",
      " 5.12 4.98 5.07 5.01 5.05 4.49 5.   5.18 4.77 4.26 5.22 5.32 4.73 4.92\n",
      " 4.08 4.09 4.88 5.22 5.12 5.12 5.11 4.84 4.78 4.97 4.57 4.81 5.59 5.02\n",
      " 5.04 4.66 4.91 4.77 5.02 5.17 5.56 4.87 4.81 5.29 5.09 4.57 5.13 5.26\n",
      " 5.12 4.06 5.08 5.66 4.16 5.11 4.95 4.62 4.27 5.28 4.59 5.43 5.02 5.16\n",
      " 5.42 4.92 4.37 4.71 5.25 4.82 4.73 4.04 4.82 5.35 4.58 5.22 5.19 5.18\n",
      " 5.19 4.09 4.93 4.73 5.02 4.81 4.67 5.51 4.73 5.09 5.06 4.86 5.01 5.46\n",
      " 4.88 5.04 5.02 5.45 5.18 5.09 4.43 5.34 4.02 4.06 5.19 5.04 5.38 5.36\n",
      " 4.98 5.04 5.13 4.62 4.46 5.07 5.09 4.91 5.13 5.21 5.01 5.04 4.79 4.76\n",
      " 4.07 5.49 5.04 5.26 5.33 5.12 5.25 4.91 5.22 5.62 4.86 4.95 5.09 4.57\n",
      " 4.72 4.93 4.47 4.91 4.89 5.07 4.71 4.78 5.13 5.28 5.01 5.28 5.18 5.17\n",
      " 5.08 5.03 5.39 4.05 5.43 5.26 4.04 5.03 5.12 5.22 4.47 4.87 5.35 5.22\n",
      " 5.54 4.94 4.76 4.85 5.13 5.41 5.02 5.51 5.13 5.03 5.   5.38 5.35 5.03\n",
      " 5.03 5.01 4.54 4.93 4.03 5.29 5.12 4.51 5.14 4.64 5.27 5.32 5.06 5.38\n",
      " 5.05 5.05 5.02 5.22 4.85 4.78 4.73 4.09 4.73 4.82 4.47 4.63 4.96 4.85\n",
      " 5.15 5.06 5.14 5.31 5.12 5.02 5.47 4.92 4.72 4.98 4.07 4.39 5.36 5.62\n",
      " 4.83 5.34 5.   4.57 4.94 5.63 5.03 5.01 5.75 5.29 5.28 5.19 4.82 5.46\n",
      " 5.01 5.52 4.76 5.36 4.94 5.47 5.02 5.14 4.57 4.08 5.08 4.75 5.04 4.67\n",
      " 5.17 5.03 4.78 4.48 4.05 4.94 5.23 4.94 5.09 5.05 5.24 4.53 5.22 5.34\n",
      " 4.83 4.09 5.13 5.42 5.21 5.39 4.92 5.08 5.06 5.22 5.42 5.45 4.91 4.71\n",
      " 5.14 5.   5.54 5.63 4.99 5.26 4.73 4.63 5.01 5.26 4.91 5.01 5.19 5.07\n",
      " 5.06 5.01 5.23 5.01 5.01 4.57 5.46 5.41 4.86 4.75 4.85 5.43 5.73 5.48\n",
      " 5.46 4.81 4.38 4.06 4.92 5.23 5.02 5.07 4.47 5.85 5.29 4.68 5.29 6.02\n",
      " 4.76 5.38 5.   5.19 4.77 4.99 4.78 5.26 5.25 4.81 5.   4.78 5.11 5.28\n",
      " 5.32 4.96 4.58 5.39 4.43 4.94 4.99 4.59 5.43 4.75 5.24 4.79 5.04 5.31\n",
      " 5.05 4.75 4.78 4.09 5.03 4.34 4.62 4.48 5.04 5.42 5.04 5.23 5.36 4.86\n",
      " 5.41 4.63 5.   5.13 4.87 4.87 5.26 5.05 5.01 4.93 5.15 5.09 4.03 5.47\n",
      " 5.71 4.87 5.28 4.68 5.12 4.92]\n"
     ]
    }
   ],
   "source": [
    "# Carga del archivo alcohol cerveza (corregido)\n",
    "data = np.loadtxt(\"alcohol_cerveza_corregido.csv\")\n",
    "\n",
    "print(\"Datos cargados:\")\n",
    "print(data)"
   ]
  },
  {
   "cell_type": "code",
   "execution_count": 17,
   "id": "52aafc4d",
   "metadata": {},
   "outputs": [
    {
     "name": "stdout",
     "output_type": "stream",
     "text": [
      "4.972899999999999\n"
     ]
    }
   ],
   "source": [
    "# Calculo de la media\n",
    "media = np.mean(data)\n",
    "print (media)"
   ]
  },
  {
   "cell_type": "code",
   "execution_count": 18,
   "id": "4be1ce0f",
   "metadata": {},
   "outputs": [
    {
     "name": "stdout",
     "output_type": "stream",
     "text": [
      "0.3418008045631256\n"
     ]
    }
   ],
   "source": [
    "# Calculo de la desviación estándar\n",
    "desviacion = np.std(data)\n",
    "print(desviacion)"
   ]
  },
  {
   "cell_type": "code",
   "execution_count": 19,
   "id": "8f7ecf72",
   "metadata": {},
   "outputs": [
    {
     "name": "stdout",
     "output_type": "stream",
     "text": [
      "3.9474975863106225\n"
     ]
    }
   ],
   "source": [
    "# Calculo del límite inferior\n",
    "lic = media - (3 * desviacion)\n",
    "print (lic)"
   ]
  },
  {
   "cell_type": "code",
   "execution_count": 20,
   "id": "8a2d4b45",
   "metadata": {},
   "outputs": [
    {
     "name": "stdout",
     "output_type": "stream",
     "text": [
      "5.998302413689376\n"
     ]
    }
   ],
   "source": [
    "# Calculo del limite superior\n",
    "lsc = media + (3 * desviacion)\n",
    "print (lsc)"
   ]
  },
  {
   "cell_type": "code",
   "execution_count": 21,
   "id": "2d61b006",
   "metadata": {},
   "outputs": [
    {
     "data": {
      "image/png": "[encoded data removed]",
      "text/plain": [
       "<Figure size 640x480 with 1 Axes>"
      ]
     },
     "metadata": {},
     "output_type": "display_data"
    }
   ],
   "source": [
    "# De forma adicional al ejercicio, podemos mostrar estos resultados en una campana de Gauss para lo cual importamos la librería matplotlib \n",
    "\n",
    "import matplotlib.pyplot as plt\n",
    "from scipy.stats import norm\n",
    "\n",
    "# Creamos el rango para el eje x del gráfico\n",
    "x = np.linspace(lic, lsc, 100)\n",
    "\n",
    "# Calculamos la función de densidad de probabilidad(pdf) para la distribución Gaussiana\n",
    "pdf = norm.pdf(x, media, desviacion)\n",
    "\n",
    "# Desplegamos los datos como un histograma\n",
    "plt.hist(data, bins=20, density=True, alpha=0.6, color='b', label='Data')\n",
    "\n",
    "# Desplegamos la campana de Gauss como una curva\n",
    "plt.plot(x, pdf, 'r', linewidth=2, label='Gaussian Curve')\n",
    "\n",
    "# Agregamos etiquetas y leyendas\n",
    "plt.xlabel('Valores')\n",
    "plt.ylabel('Densidad de probabilidad')\n",
    "plt.title('Curva de la campana Gauss')\n",
    "plt.legend()\n",
    "\n",
    "# Mostramos el gráfico\n",
    "plt.show()"
   ]
  },
  {
   "cell_type": "code",
   "execution_count": 25,
   "id": "c218137a",
   "metadata": {},
   "outputs": [
    {
     "name": "stdout",
     "output_type": "stream",
     "text": [
      "Valores fuera de rango [lic, lsc]:\n",
      "[3.87 6.02]\n"
     ]
    }
   ],
   "source": [
    "# Finalmente, buscaremos dentro del data set todos aquellos valores fuera del rango de control (lic - lsc)\n",
    "fuera_de_rango = np.logical_or(data < lic, data > lsc)\n",
    "valores_fuera_de_rango = data[fuera_de_rango]\n",
    "\n",
    "print(\"Valores fuera de rango [lic, lsc]:\")\n",
    "print(valores_fuera_de_rango)"
   ]
  },
  {
   "cell_type": "code",
   "execution_count": null,
   "id": "419deb7c",
   "metadata": {},
   "outputs": [],
   "source": []
  }
 ],
 "metadata": {
  "kernelspec": {
   "display_name": "Python 3 (ipykernel)",
   "language": "python",
   "name": "python3"
  },
  "language_info": {
   "codemirror_mode": {
    "name": "ipython",
    "version": 3
   },
   "file_extension": ".py",
   "mimetype": "text/x-python",
   "name": "python",
   "nbconvert_exporter": "python",
   "pygments_lexer": "ipython3",
   "version": "3.11.4"
  }
 },
 "nbformat": 4,
 "nbformat_minor": 5
}
